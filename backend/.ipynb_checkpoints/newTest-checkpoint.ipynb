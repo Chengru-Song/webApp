{
 "cells": [
  {
   "cell_type": "code",
   "execution_count": 1,
   "metadata": {},
   "outputs": [
    {
     "name": "stderr",
     "output_type": "stream",
     "text": [
      "Using cache found in C:\\Users\\dell/.cache\\torch\\hub\\pytorch_vision_v0.6.0\n"
     ]
    }
   ],
   "source": [
    "# load pretrained model\n",
    "import torch\n",
    "# load an image from local file\n",
    "from PIL import Image\n",
    "from torchvision import transforms\n",
    "import torchvision\n",
    "import time\n",
    "import pandas as pd\n",
    "model = torch.hub.load('pytorch/vision:v0.6.0', 'mobilenet_v2', pretrained=True)\n",
    "model.eval()\n",
    "with open('classes.txt') as f:\n",
    "  labels = [line.strip() for line in f.readlines()]"
   ]
  },
  {
   "cell_type": "markdown",
   "metadata": {},
   "source": [
    "## Define transformation"
   ]
  },
  {
   "cell_type": "code",
   "execution_count": 2,
   "metadata": {},
   "outputs": [],
   "source": [
    "# define transformations\n",
    "transformations = transforms.Compose([\n",
    "    transforms.Resize(255),\n",
    "    transforms.CenterCrop(224),\n",
    "    transforms.ToTensor(),\n",
    "    transforms.Normalize(mean=[0.485, 0.456, 0.406], std=[0.229, 0.224, 0.225])\n",
    "])"
   ]
  },
  {
   "cell_type": "markdown",
   "metadata": {},
   "source": [
    "## Load Dataset"
   ]
  },
  {
   "cell_type": "code",
   "execution_count": 3,
   "metadata": {},
   "outputs": [],
   "source": [
    "testset = torchvision.datasets.ImageNet(root='./data', split='val',\n",
    "                                       transform=transformations)\n",
    "dataloader = torch.utils.data.DataLoader(testset, batch_size=32,\n",
    "                                         shuffle=False, num_workers=2)"
   ]
  },
  {
   "cell_type": "markdown",
   "metadata": {},
   "source": [
    "## Test Model on Labeled Dataset"
   ]
  },
  {
   "cell_type": "code",
   "execution_count": 12,
   "metadata": {},
   "outputs": [
    {
     "name": "stderr",
     "output_type": "stream",
     "text": [
      "Using cache found in C:\\Users\\dell/.cache\\torch\\hub\\pytorch_vision_v0.6.0\n"
     ]
    },
    {
     "name": "stdout",
     "output_type": "stream",
     "text": [
      "1 / 200\n",
      "2 / 200\n",
      "3 / 200\n",
      "4 / 200\n",
      "5 / 200\n",
      "6 / 200\n",
      "7 / 200\n",
      "8 / 200\n",
      "9 / 200\n",
      "10 / 200\n",
      "top_1s:  [80.9375]\n",
      "top_5s:  [95.0]\n",
      "times:  [14.110009670257568]\n",
      "11 / 200\n",
      "12 / 200\n",
      "13 / 200\n",
      "14 / 200\n",
      "15 / 200\n",
      "16 / 200\n",
      "17 / 200\n",
      "18 / 200\n",
      "19 / 200\n",
      "20 / 200\n",
      "top_1s:  [80.9375, 83.125]\n",
      "top_5s:  [95.0, 95.3125]\n",
      "times:  [14.110009670257568, 27.78084945678711]\n",
      "21 / 200\n",
      "22 / 200\n",
      "23 / 200\n",
      "24 / 200\n",
      "25 / 200\n",
      "26 / 200\n",
      "27 / 200\n",
      "28 / 200\n",
      "29 / 200\n",
      "30 / 200\n",
      "top_1s:  [80.9375, 83.125, 84.79166666666667]\n",
      "top_5s:  [95.0, 95.3125, 95.72916666666667]\n",
      "times:  [14.110009670257568, 27.78084945678711, 41.591941356658936]\n",
      "31 / 200\n",
      "32 / 200\n",
      "33 / 200\n",
      "34 / 200\n",
      "35 / 200\n",
      "36 / 200\n",
      "37 / 200\n",
      "38 / 200\n",
      "39 / 200\n",
      "40 / 200\n",
      "top_1s:  [80.9375, 83.125, 84.79166666666667, 85.9375]\n",
      "top_5s:  [95.0, 95.3125, 95.72916666666667, 96.015625]\n",
      "times:  [14.110009670257568, 27.78084945678711, 41.591941356658936, 55.674476623535156]\n",
      "41 / 200\n",
      "42 / 200\n",
      "43 / 200\n",
      "44 / 200\n",
      "45 / 200\n",
      "46 / 200\n",
      "47 / 200\n",
      "48 / 200\n",
      "49 / 200\n",
      "50 / 200\n",
      "top_1s:  [80.9375, 83.125, 84.79166666666667, 85.9375, 85.125]\n",
      "top_5s:  [95.0, 95.3125, 95.72916666666667, 96.015625, 95.5625]\n",
      "times:  [14.110009670257568, 27.78084945678711, 41.591941356658936, 55.674476623535156, 69.56447577476501]\n",
      "51 / 200\n",
      "52 / 200\n",
      "53 / 200\n",
      "54 / 200\n",
      "55 / 200\n",
      "56 / 200\n",
      "57 / 200\n",
      "58 / 200\n",
      "59 / 200\n",
      "60 / 200\n",
      "top_1s:  [80.9375, 83.125, 84.79166666666667, 85.9375, 85.125, 81.61458333333333]\n",
      "top_5s:  [95.0, 95.3125, 95.72916666666667, 96.015625, 95.5625, 94.84375]\n",
      "times:  [14.110009670257568, 27.78084945678711, 41.591941356658936, 55.674476623535156, 69.56447577476501, 83.24447202682495]\n",
      "61 / 200\n",
      "62 / 200\n",
      "63 / 200\n",
      "64 / 200\n",
      "65 / 200\n",
      "66 / 200\n",
      "67 / 200\n",
      "68 / 200\n",
      "69 / 200\n",
      "70 / 200\n",
      "top_1s:  [80.9375, 83.125, 84.79166666666667, 85.9375, 85.125, 81.61458333333333, 80.49107142857143]\n",
      "top_5s:  [95.0, 95.3125, 95.72916666666667, 96.015625, 95.5625, 94.84375, 94.41964285714286]\n",
      "times:  [14.110009670257568, 27.78084945678711, 41.591941356658936, 55.674476623535156, 69.56447577476501, 83.24447202682495, 98.41869044303894]\n",
      "71 / 200\n",
      "72 / 200\n",
      "73 / 200\n",
      "74 / 200\n",
      "75 / 200\n",
      "76 / 200\n",
      "77 / 200\n",
      "78 / 200\n",
      "79 / 200\n",
      "80 / 200\n",
      "top_1s:  [80.9375, 83.125, 84.79166666666667, 85.9375, 85.125, 81.61458333333333, 80.49107142857143, 79.21875]\n",
      "top_5s:  [95.0, 95.3125, 95.72916666666667, 96.015625, 95.5625, 94.84375, 94.41964285714286, 93.90625]\n",
      "times:  [14.110009670257568, 27.78084945678711, 41.591941356658936, 55.674476623535156, 69.56447577476501, 83.24447202682495, 98.41869044303894, 112.38818168640137]\n",
      "81 / 200\n",
      "82 / 200\n",
      "83 / 200\n",
      "84 / 200\n",
      "85 / 200\n",
      "86 / 200\n",
      "87 / 200\n",
      "88 / 200\n",
      "89 / 200\n",
      "90 / 200\n",
      "top_1s:  [80.9375, 83.125, 84.79166666666667, 85.9375, 85.125, 81.61458333333333, 80.49107142857143, 79.21875, 78.50694444444444]\n",
      "top_5s:  [95.0, 95.3125, 95.72916666666667, 96.015625, 95.5625, 94.84375, 94.41964285714286, 93.90625, 93.78472222222223]\n",
      "times:  [14.110009670257568, 27.78084945678711, 41.591941356658936, 55.674476623535156, 69.56447577476501, 83.24447202682495, 98.41869044303894, 112.38818168640137, 125.94670248031616]\n",
      "91 / 200\n",
      "92 / 200\n",
      "93 / 200\n",
      "94 / 200\n",
      "95 / 200\n",
      "96 / 200\n",
      "97 / 200\n",
      "98 / 200\n",
      "99 / 200\n",
      "100 / 200\n",
      "top_1s:  [80.9375, 83.125, 84.79166666666667, 85.9375, 85.125, 81.61458333333333, 80.49107142857143, 79.21875, 78.50694444444444, 76.96875]\n",
      "top_5s:  [95.0, 95.3125, 95.72916666666667, 96.015625, 95.5625, 94.84375, 94.41964285714286, 93.90625, 93.78472222222223, 93.28125]\n",
      "times:  [14.110009670257568, 27.78084945678711, 41.591941356658936, 55.674476623535156, 69.56447577476501, 83.24447202682495, 98.41869044303894, 112.38818168640137, 125.94670248031616, 139.3677203655243]\n",
      "101 / 200\n",
      "102 / 200\n",
      "103 / 200\n",
      "104 / 200\n",
      "105 / 200\n",
      "106 / 200\n",
      "107 / 200\n",
      "108 / 200\n",
      "109 / 200\n",
      "110 / 200\n",
      "top_1s:  [80.9375, 83.125, 84.79166666666667, 85.9375, 85.125, 81.61458333333333, 80.49107142857143, 79.21875, 78.50694444444444, 76.96875, 76.05113636363636]\n",
      "top_5s:  [95.0, 95.3125, 95.72916666666667, 96.015625, 95.5625, 94.84375, 94.41964285714286, 93.90625, 93.78472222222223, 93.28125, 92.8125]\n",
      "times:  [14.110009670257568, 27.78084945678711, 41.591941356658936, 55.674476623535156, 69.56447577476501, 83.24447202682495, 98.41869044303894, 112.38818168640137, 125.94670248031616, 139.3677203655243, 152.6877245903015]\n",
      "111 / 200\n",
      "112 / 200\n",
      "113 / 200\n",
      "114 / 200\n",
      "115 / 200\n",
      "116 / 200\n",
      "117 / 200\n",
      "118 / 200\n",
      "119 / 200\n",
      "120 / 200\n",
      "top_1s:  [80.9375, 83.125, 84.79166666666667, 85.9375, 85.125, 81.61458333333333, 80.49107142857143, 79.21875, 78.50694444444444, 76.96875, 76.05113636363636, 76.09375]\n",
      "top_5s:  [95.0, 95.3125, 95.72916666666667, 96.015625, 95.5625, 94.84375, 94.41964285714286, 93.90625, 93.78472222222223, 93.28125, 92.8125, 93.02083333333333]\n",
      "times:  [14.110009670257568, 27.78084945678711, 41.591941356658936, 55.674476623535156, 69.56447577476501, 83.24447202682495, 98.41869044303894, 112.38818168640137, 125.94670248031616, 139.3677203655243, 152.6877245903015, 165.9595730304718]\n",
      "121 / 200\n",
      "122 / 200\n",
      "123 / 200\n",
      "124 / 200\n",
      "125 / 200\n",
      "126 / 200\n",
      "127 / 200\n",
      "128 / 200\n",
      "129 / 200\n",
      "130 / 200\n",
      "top_1s:  [80.9375, 83.125, 84.79166666666667, 85.9375, 85.125, 81.61458333333333, 80.49107142857143, 79.21875, 78.50694444444444, 76.96875, 76.05113636363636, 76.09375, 76.39423076923077]\n",
      "top_5s:  [95.0, 95.3125, 95.72916666666667, 96.015625, 95.5625, 94.84375, 94.41964285714286, 93.90625, 93.78472222222223, 93.28125, 92.8125, 93.02083333333333, 92.90865384615384]\n",
      "times:  [14.110009670257568, 27.78084945678711, 41.591941356658936, 55.674476623535156, 69.56447577476501, 83.24447202682495, 98.41869044303894, 112.38818168640137, 125.94670248031616, 139.3677203655243, 152.6877245903015, 165.9595730304718, 179.28260850906372]\n",
      "131 / 200\n",
      "132 / 200\n",
      "133 / 200\n",
      "134 / 200\n",
      "135 / 200\n",
      "136 / 200\n",
      "137 / 200\n",
      "138 / 200\n",
      "139 / 200\n",
      "140 / 200\n",
      "top_1s:  [80.9375, 83.125, 84.79166666666667, 85.9375, 85.125, 81.61458333333333, 80.49107142857143, 79.21875, 78.50694444444444, 76.96875, 76.05113636363636, 76.09375, 76.39423076923077, 77.32142857142857]\n",
      "top_5s:  [95.0, 95.3125, 95.72916666666667, 96.015625, 95.5625, 94.84375, 94.41964285714286, 93.90625, 93.78472222222223, 93.28125, 92.8125, 93.02083333333333, 92.90865384615384, 93.19196428571429]\n",
      "times:  [14.110009670257568, 27.78084945678711, 41.591941356658936, 55.674476623535156, 69.56447577476501, 83.24447202682495, 98.41869044303894, 112.38818168640137, 125.94670248031616, 139.3677203655243, 152.6877245903015, 165.9595730304718, 179.28260850906372, 192.7106213569641]\n",
      "141 / 200\n",
      "142 / 200\n",
      "143 / 200\n",
      "144 / 200\n",
      "145 / 200\n",
      "146 / 200\n",
      "147 / 200\n",
      "148 / 200\n",
      "149 / 200\n",
      "150 / 200\n",
      "top_1s:  [80.9375, 83.125, 84.79166666666667, 85.9375, 85.125, 81.61458333333333, 80.49107142857143, 79.21875, 78.50694444444444, 76.96875, 76.05113636363636, 76.09375, 76.39423076923077, 77.32142857142857, 78.35416666666667]\n",
      "top_5s:  [95.0, 95.3125, 95.72916666666667, 96.015625, 95.5625, 94.84375, 94.41964285714286, 93.90625, 93.78472222222223, 93.28125, 92.8125, 93.02083333333333, 92.90865384615384, 93.19196428571429, 93.41666666666667]\n",
      "times:  [14.110009670257568, 27.78084945678711, 41.591941356658936, 55.674476623535156, 69.56447577476501, 83.24447202682495, 98.41869044303894, 112.38818168640137, 125.94670248031616, 139.3677203655243, 152.6877245903015, 165.9595730304718, 179.28260850906372, 192.7106213569641, 205.93973970413208]\n",
      "151 / 200\n",
      "152 / 200\n",
      "153 / 200\n",
      "154 / 200\n",
      "155 / 200\n",
      "156 / 200\n",
      "157 / 200\n",
      "158 / 200\n",
      "159 / 200\n",
      "160 / 200\n",
      "top_1s:  [80.9375, 83.125, 84.79166666666667, 85.9375, 85.125, 81.61458333333333, 80.49107142857143, 79.21875, 78.50694444444444, 76.96875, 76.05113636363636, 76.09375, 76.39423076923077, 77.32142857142857, 78.35416666666667, 78.65234375]\n",
      "top_5s:  [95.0, 95.3125, 95.72916666666667, 96.015625, 95.5625, 94.84375, 94.41964285714286, 93.90625, 93.78472222222223, 93.28125, 92.8125, 93.02083333333333, 92.90865384615384, 93.19196428571429, 93.41666666666667, 93.53515625]\n",
      "times:  [14.110009670257568, 27.78084945678711, 41.591941356658936, 55.674476623535156, 69.56447577476501, 83.24447202682495, 98.41869044303894, 112.38818168640137, 125.94670248031616, 139.3677203655243, 152.6877245903015, 165.9595730304718, 179.28260850906372, 192.7106213569641, 205.93973970413208, 219.2977409362793]\n",
      "161 / 200\n",
      "162 / 200\n",
      "163 / 200\n",
      "164 / 200\n",
      "165 / 200\n",
      "166 / 200\n",
      "167 / 200\n",
      "168 / 200\n",
      "169 / 200\n",
      "170 / 200\n",
      "top_1s:  [80.9375, 83.125, 84.79166666666667, 85.9375, 85.125, 81.61458333333333, 80.49107142857143, 79.21875, 78.50694444444444, 76.96875, 76.05113636363636, 76.09375, 76.39423076923077, 77.32142857142857, 78.35416666666667, 78.65234375, 78.80514705882354]\n",
      "top_5s:  [95.0, 95.3125, 95.72916666666667, 96.015625, 95.5625, 94.84375, 94.41964285714286, 93.90625, 93.78472222222223, 93.28125, 92.8125, 93.02083333333333, 92.90865384615384, 93.19196428571429, 93.41666666666667, 93.53515625, 93.47426470588235]\n",
      "times:  [14.110009670257568, 27.78084945678711, 41.591941356658936, 55.674476623535156, 69.56447577476501, 83.24447202682495, 98.41869044303894, 112.38818168640137, 125.94670248031616, 139.3677203655243, 152.6877245903015, 165.9595730304718, 179.28260850906372, 192.7106213569641, 205.93973970413208, 219.2977409362793, 232.55974650382996]\n"
     ]
    },
    {
     "name": "stdout",
     "output_type": "stream",
     "text": [
      "171 / 200\n",
      "172 / 200\n",
      "173 / 200\n",
      "174 / 200\n",
      "175 / 200\n",
      "176 / 200\n",
      "177 / 200\n",
      "178 / 200\n",
      "179 / 200\n",
      "180 / 200\n",
      "top_1s:  [80.9375, 83.125, 84.79166666666667, 85.9375, 85.125, 81.61458333333333, 80.49107142857143, 79.21875, 78.50694444444444, 76.96875, 76.05113636363636, 76.09375, 76.39423076923077, 77.32142857142857, 78.35416666666667, 78.65234375, 78.80514705882354, 78.85416666666667]\n",
      "top_5s:  [95.0, 95.3125, 95.72916666666667, 96.015625, 95.5625, 94.84375, 94.41964285714286, 93.90625, 93.78472222222223, 93.28125, 92.8125, 93.02083333333333, 92.90865384615384, 93.19196428571429, 93.41666666666667, 93.53515625, 93.47426470588235, 93.45486111111111]\n",
      "times:  [14.110009670257568, 27.78084945678711, 41.591941356658936, 55.674476623535156, 69.56447577476501, 83.24447202682495, 98.41869044303894, 112.38818168640137, 125.94670248031616, 139.3677203655243, 152.6877245903015, 165.9595730304718, 179.28260850906372, 192.7106213569641, 205.93973970413208, 219.2977409362793, 232.55974650382996, 245.70975494384766]\n",
      "181 / 200\n",
      "182 / 200\n",
      "183 / 200\n",
      "184 / 200\n",
      "185 / 200\n",
      "186 / 200\n",
      "187 / 200\n",
      "188 / 200\n",
      "189 / 200\n",
      "190 / 200\n",
      "top_1s:  [80.9375, 83.125, 84.79166666666667, 85.9375, 85.125, 81.61458333333333, 80.49107142857143, 79.21875, 78.50694444444444, 76.96875, 76.05113636363636, 76.09375, 76.39423076923077, 77.32142857142857, 78.35416666666667, 78.65234375, 78.80514705882354, 78.85416666666667, 78.86513157894737]\n",
      "top_5s:  [95.0, 95.3125, 95.72916666666667, 96.015625, 95.5625, 94.84375, 94.41964285714286, 93.90625, 93.78472222222223, 93.28125, 92.8125, 93.02083333333333, 92.90865384615384, 93.19196428571429, 93.41666666666667, 93.53515625, 93.47426470588235, 93.45486111111111, 93.55263157894737]\n",
      "times:  [14.110009670257568, 27.78084945678711, 41.591941356658936, 55.674476623535156, 69.56447577476501, 83.24447202682495, 98.41869044303894, 112.38818168640137, 125.94670248031616, 139.3677203655243, 152.6877245903015, 165.9595730304718, 179.28260850906372, 192.7106213569641, 205.93973970413208, 219.2977409362793, 232.55974650382996, 245.70975494384766, 259.08177852630615]\n",
      "191 / 200\n",
      "192 / 200\n",
      "193 / 200\n",
      "194 / 200\n",
      "195 / 200\n",
      "196 / 200\n",
      "197 / 200\n",
      "198 / 200\n",
      "199 / 200\n",
      "200 / 200\n",
      "top_1s:  [80.9375, 83.125, 84.79166666666667, 85.9375, 85.125, 81.61458333333333, 80.49107142857143, 79.21875, 78.50694444444444, 76.96875, 76.05113636363636, 76.09375, 76.39423076923077, 77.32142857142857, 78.35416666666667, 78.65234375, 78.80514705882354, 78.85416666666667, 78.86513157894737, 78.625]\n",
      "top_5s:  [95.0, 95.3125, 95.72916666666667, 96.015625, 95.5625, 94.84375, 94.41964285714286, 93.90625, 93.78472222222223, 93.28125, 92.8125, 93.02083333333333, 92.90865384615384, 93.19196428571429, 93.41666666666667, 93.53515625, 93.47426470588235, 93.45486111111111, 93.55263157894737, 93.5]\n",
      "times:  [14.110009670257568, 27.78084945678711, 41.591941356658936, 55.674476623535156, 69.56447577476501, 83.24447202682495, 98.41869044303894, 112.38818168640137, 125.94670248031616, 139.3677203655243, 152.6877245903015, 165.9595730304718, 179.28260850906372, 192.7106213569641, 205.93973970413208, 219.2977409362793, 232.55974650382996, 245.70975494384766, 259.08177852630615, 272.5280816555023]\n",
      "201 / 200\n",
      "top_1: 1580.625, top_5:1879.6875\n",
      "consumed time: 273.86008071899414\n"
     ]
    }
   ],
   "source": [
    "transformations = transforms.Compose([\n",
    "    transforms.Resize(255),\n",
    "    transforms.CenterCrop(224),\n",
    "    transforms.ToTensor(),\n",
    "    transforms.Normalize(mean=[0.485, 0.456, 0.406], std=[0.229, 0.224, 0.225])\n",
    "])\n",
    "\n",
    "# image_data = torchvision.datasets.ImageFolder(\n",
    "#     \"./testimages\",\n",
    "#     transform=transformations\n",
    "# )\n",
    "# dataloader = torch.utils.data.DataLoader(\n",
    "#     dataset=image_data,\n",
    "#     batch_size=32,\n",
    "#     shuffle=False,\n",
    "#     num_workers=8\n",
    "# )\n",
    "\n",
    "def cal_accuracy(output, target, topk=(1,)):\n",
    "    \"\"\"Computes the precision@k for the specified values of k\"\"\"\n",
    "    maxk = max(topk)\n",
    "    batch_size = target.size(0)\n",
    "\n",
    "    _, pred = output.topk(maxk, 1, True, True)\n",
    "    pred = pred.t()\n",
    "    correct = pred.eq(target.view(1, -1).expand_as(pred))\n",
    "    res = []\n",
    "    for k in topk:\n",
    "        correct_k = correct[:k].view(-1).float().sum(0, keepdim=True)\n",
    "        res.append(correct_k.mul_(100.0 / batch_size))\n",
    "    return res\n",
    "\n",
    "counter = 0\n",
    "# Tell torch not to calculate gradients\n",
    "model = torch.hub.load('pytorch/vision:v0.6.0', 'mobilenet_v2', pretrained=True)\n",
    "model.eval()\n",
    "device = torch.device('cpu')\n",
    "# device = torch.device(\"cuda\")\n",
    "# model.cuda()\n",
    "batch_size = 32\n",
    "with torch.no_grad():\n",
    "    val_loss = 0\n",
    "    accuracy_1 = 0\n",
    "    accuracy_5 = 0\n",
    "    counter = 0\n",
    "    testLen = 10\n",
    "    timeConsume = 0\n",
    "    iters = [i for i in range(10, 201, 10)]\n",
    "    top_1s = []\n",
    "    top_5s = []\n",
    "    times = []\n",
    "    idx = 0\n",
    "    for inputs, labels in dataloader:\n",
    "        if idx == len(iters):\n",
    "            break\n",
    "        if counter == iters[idx]:\n",
    "            top_1s.append(accuracy_1/counter)\n",
    "            top_5s.append(accuracy_5/counter)\n",
    "            times.append(timeConsume)\n",
    "            idx += 1\n",
    "            print(\"top_1s: \", top_1s)\n",
    "            print('top_5s: ', top_5s)\n",
    "            print('times: ', times)\n",
    "        # Move to device\n",
    "        inputs, labels = inputs.to(device), labels.to(device)\n",
    "        # Forward pass\n",
    "        start = time.time()\n",
    "        output = model.forward(inputs)\n",
    "#         # Calculate Loss\n",
    "#         valloss = criterion(output, labels)\n",
    "#         # Add loss to the validation set's running loss\n",
    "#         val_loss += valloss.item()*inputs.size(0)\n",
    "\n",
    "        # Since our model outputs a LogSoftmax, find the real \n",
    "        # percentages by reversing the log function\n",
    "        output = torch.exp(output)\n",
    "        # Get the top class of the output\n",
    "        top_p, top_class = output.topk(1, dim=1)\n",
    "        res = cal_accuracy(output, labels.view(batch_size), (1,5))\n",
    "        top_1 = res[0].item()\n",
    "        top_5 = res[1].item()\n",
    "        end = time.time()\n",
    "        timeConsume += (end - start)\n",
    "#         # See how many of the classes were correct?\n",
    "#         equals = top_class == labels.view(*top_class.shape)\n",
    "#         # Calculate the mean (get the accuracy for this batch)\n",
    "#         # and add it to the running accuracy for this epoch\n",
    "#         accuracy += torch.mean(equals.type(torch.FloatTensor)).item()\n",
    "        accuracy_1 += top_1\n",
    "        accuracy_5 += top_5\n",
    "\n",
    "        # Print the progress of our evaluation\n",
    "        counter += 1\n",
    "        print(counter, \"/\", 200)\n",
    "\n",
    "    # Get the average loss for the entire epoch\n",
    "    # valid_loss = val_loss/len(dataloader.dataset)\n",
    "    # Print out the information\n",
    "    print('top_1: {}, top_5:{}'.format(accuracy_1/testLen, accuracy_5/testLen))\n",
    "    print('consumed time: {}'.format(timeConsume))\n",
    "    # print('Epoch: {} \\tTraining Loss: {:.6f} \\tValidation Loss: {:.6f}'.format(epoch, train_loss, valid_loss))\n",
    "    df = pd.DataFrame(iters, columns=['iters'])\n",
    "    df2 = pd.DataFrame(top_1s, columns=['top_1'])\n",
    "    df3 = pd.DataFrame(top_5s, columns=['top_5'])\n",
    "    df4 = pd.DataFrame(times, columns=['consumeTime'])\n",
    "    result = pd.concat([df, df2, df3, df4], axis=1)\n",
    "    result.to_csv('result2.csv', encoding='utf-8', index=True)"
   ]
  },
  {
   "cell_type": "markdown",
   "metadata": {},
   "source": [
    "## Plot accuracy"
   ]
  },
  {
   "cell_type": "code",
   "execution_count": 7,
   "metadata": {},
   "outputs": [
    {
     "data": {
      "text/plain": [
       "<matplotlib.legend.Legend at 0x1a72f887248>"
      ]
     },
     "execution_count": 7,
     "metadata": {},
     "output_type": "execute_result"
    },
    {
     "data": {
      "image/png": "[encoded data removed]",
      "text/plain": [
       "<Figure size 432x288 with 1 Axes>"
      ]
     },
     "metadata": {
      "needs_background": "light"
     },
     "output_type": "display_data"
    }
   ],
   "source": [
    "import matplotlib.pyplot as plt\n",
    "fig, ax = plt.subplots()\n",
    "ax.plot(iters, top_1s, label='Top_1 Accuracy', marker='^')\n",
    "ax.plot(iters, top_5s, label='Top_5 Accuracy', marker='o')\n",
    "ax.set_ylim(0, 100)\n",
    "ax.set_xlabel('Iterations')\n",
    "ax.set_ylabel('Accuracy')\n",
    "ax.set_title('Top_1 and Top_5 Accuracy with test images')\n",
    "ax.legend()\n",
    "\n"
   ]
  },
  {
   "cell_type": "markdown",
   "metadata": {},
   "source": [
    "## Plot time"
   ]
  },
  {
   "cell_type": "code",
   "execution_count": 70,
   "metadata": {},
   "outputs": [
    {
     "data": {
      "text/plain": [
       "<matplotlib.legend.Legend at 0x1e587e4e788>"
      ]
     },
     "execution_count": 70,
     "metadata": {},
     "output_type": "execute_result"
    },
    {
     "data": {
      "image/png": "[encoded data removed]",
      "text/plain": [
       "<Figure size 432x288 with 1 Axes>"
      ]
     },
     "metadata": {
      "needs_background": "light"
     },
     "output_type": "display_data"
    }
   ],
   "source": [
    "fig, bx = plt.subplots()\n",
    "bx.plot(iters, times, label='Time Comsumed', marker='^')\n",
    "\n",
    "bx.set_xlabel('Iterations')\n",
    "bx.set_ylabel('Time/s')\n",
    "bx.set_title('Time consumed with iteration')\n",
    "bx.legend()"
   ]
  },
  {
   "cell_type": "markdown",
   "metadata": {},
   "source": [
    "## Plot comparison time, skip the previous one"
   ]
  },
  {
   "cell_type": "code",
   "execution_count": 17,
   "metadata": {},
   "outputs": [
    {
     "data": {
      "text/plain": [
       "<matplotlib.legend.Legend at 0x1a7e6db9b08>"
      ]
     },
     "execution_count": 17,
     "metadata": {},
     "output_type": "execute_result"
    },
    {
     "data": {
      "image/png": "[encoded data removed]",
      "text/plain": [
       "<Figure size 432x288 with 1 Axes>"
      ]
     },
     "metadata": {
      "needs_background": "light"
     },
     "output_type": "display_data"
    }
   ],
   "source": [
    "ori = pd.read_csv('result.csv')['consumeTime'].tolist()\n",
    "fig, bx = plt.subplots()\n",
    "bx.plot(iters, times, label='Use CPU', marker='^')\n",
    "bx.plot(iters, ori, label='Use CUDA', marker='o')\n",
    "bx.set_xlabel('Iterations')\n",
    "bx.set_ylabel('Time/s')\n",
    "bx.set_title('Time consumed with iteration')\n",
    "bx.legend()\n"
   ]
  },
  {
   "cell_type": "markdown",
   "metadata": {},
   "source": [
    "## Inference using TensonRT"
   ]
  },
  {
   "cell_type": "code",
   "execution_count": 11,
   "metadata": {},
   "outputs": [
    {
     "name": "stdout",
     "output_type": "stream",
     "text": [
      "consumed time: 0.0008525848388671875\n",
      "consumed time: 0.001699209213256836\n",
      "consumed time: 0.0026171207427978516\n",
      "consumed time: 0.003473997116088867\n",
      "consumed time: 0.0043222904205322266\n",
      "consumed time: 0.00538945198059082\n",
      "consumed time: 0.0062944889068603516\n",
      "consumed time: 0.007220745086669922\n",
      "consumed time: 0.00812840461730957\n",
      "consumed time: 0.008996725082397461\n",
      "consumed time: 0.009845256805419922\n",
      "consumed time: 0.010943889617919922\n",
      "consumed time: 0.011803627014160156\n",
      "consumed time: 0.012718439102172852\n",
      "consumed time: 0.013638973236083984\n",
      "consumed time: 0.014492511749267578\n",
      "consumed time: 0.01537942886352539\n",
      "consumed time: 0.01627373695373535\n",
      "consumed time: 0.017133235931396484\n",
      "consumed time: 0.017983198165893555\n",
      "[0.0008525848388671875, 0.001699209213256836, 0.0026171207427978516, 0.003473997116088867, 0.0043222904205322266, 0.00538945198059082, 0.0062944889068603516, 0.007220745086669922, 0.00812840461730957, 0.008996725082397461, 0.009845256805419922, 0.010943889617919922, 0.011803627014160156, 0.012718439102172852, 0.013638973236083984, 0.014492511749267578, 0.01537942886352539, 0.01627373695373535, 0.017133235931396484, 0.017983198165893555]\n"
     ]
    }
   ],
   "source": [
    "import tensorrt as trt\n",
    "import numpy as np\n",
    "import pycuda.autoinit\n",
    "import pycuda.driver as cuda \n",
    "import time\n",
    "import keras\n",
    "from keras.preprocessing.image import ImageDataGenerator\n",
    "ONNX_FILE_PATH = 'mobilenetv2-7.onnx'\n",
    "input_size = 32\n",
    "\n",
    "TRT_LOGGER = trt.Logger(trt.Logger.WARNING)\n",
    "\n",
    "def build_engine(model_path):\n",
    "    with trt.Builder(TRT_LOGGER) as builder, \\\n",
    "        builder.create_network() as network, \\\n",
    "        trt.OnnxParser(network, TRT_LOGGER) as parser: \n",
    "        builder.max_workspace_size = 1<<20\n",
    "        builder.max_batch_size = 1\n",
    "        with open(model_path, \"rb\") as f:\n",
    "            parser.parse(f.read())\n",
    "        engine = builder.build_cuda_engine(network)\n",
    "        return engine\n",
    "\n",
    "def alloc_buf(engine):\n",
    "    # host cpu mem\n",
    "    h_in_size = trt.volume(engine.get_binding_shape(0))\n",
    "    h_out_size = trt.volume(engine.get_binding_shape(1))\n",
    "    h_in_dtype = trt.nptype(engine.get_binding_dtype(0))\n",
    "    h_out_dtype = trt.nptype(engine.get_binding_dtype(1))\n",
    "    in_cpu = cuda.pagelocked_empty(h_in_size, h_in_dtype)\n",
    "    out_cpu = cuda.pagelocked_empty(h_out_size, h_out_dtype)\n",
    "    # allocate gpu mem\n",
    "    in_gpu = cuda.mem_alloc(in_cpu.nbytes)\n",
    "    out_gpu = cuda.mem_alloc(out_cpu.nbytes)\n",
    "    stream = cuda.Stream()\n",
    "    return in_cpu, out_cpu, in_gpu, out_gpu, stream\n",
    "\n",
    "\n",
    "def inference(engine, context, inputs, out_cpu, in_gpu, out_gpu, stream):\n",
    "    # async version\n",
    "    # with engine.create_execution_context() as context:  # cost time to initialize\n",
    "    # cuda.memcpy_htod_async(in_gpu, inputs, stream)\n",
    "    # context.execute_async(1, [int(in_gpu), int(out_gpu)], stream.handle, None)\n",
    "    # cuda.memcpy_dtoh_async(out_cpu, out_gpu, stream)\n",
    "    # stream.synchronize()\n",
    "\n",
    "    # sync version\n",
    "    cuda.memcpy_htod(in_gpu, inputs)\n",
    "    context.execute(1, [int(in_gpu), int(out_gpu)])\n",
    "    cuda.memcpy_dtoh(out_cpu, out_gpu)\n",
    "    return out_cpu\n",
    "\n",
    "inputs = np.random.random((1, 3, input_size, input_size)).astype(np.float32)\n",
    "engine = build_engine(ONNX_FILE_PATH)\n",
    "context = engine.create_execution_context()\n",
    "iters = [i*32 for i in range(10, 201, 10)]\n",
    "idx = 0\n",
    "times = []\n",
    "consumeT = 0\n",
    "for i in range(6401):\n",
    "    t1 = time.time()\n",
    "    in_cpu, out_cpu, in_gpu, out_gpu, stream = alloc_buf(engine)\n",
    "    res = inference(engine, context, inputs.reshape(-1), out_cpu, in_gpu, out_gpu, stream)\n",
    "    if i == iters[idx]:\n",
    "        consume = time.time()-t1\n",
    "        consumeT = consumeT + consume\n",
    "        times.append(consumeT)\n",
    "        print(\"consumed time: {}\".format(consumeT))\n",
    "        idx += 1\n",
    "print(times)"
   ]
  },
  {
   "cell_type": "code",
   "execution_count": 12,
   "metadata": {},
   "outputs": [
    {
     "data": {
      "text/plain": [
       "<matplotlib.legend.Legend at 0x7fb30077a4e0>"
      ]
     },
     "execution_count": 12,
     "metadata": {},
     "output_type": "execute_result"
    },
    {
     "data": {
      "image/png": "[encoded data removed]",
      "text/plain": [
       "<Figure size 432x288 with 1 Axes>"
      ]
     },
     "metadata": {
      "needs_background": "light"
     },
     "output_type": "display_data"
    }
   ],
   "source": [
    "import pandas as pd\n",
    "import matplotlib.pyplot as plt\n",
    "iters = [i for i in range(10, 201, 10)]\n",
    "ori = pd.read_csv('result.csv')['consumeTime'].tolist()\n",
    "fig, bx = plt.subplots()\n",
    "bx.plot(iters, times, label='Use TensorRT', marker='^')\n",
    "bx.plot(iters, ori, label='Use Torch CUDA', marker='o')\n",
    "bx.set_xlabel('Iterations')\n",
    "bx.set_ylabel('Time/s')\n",
    "bx.set_title('Time consumed with iteration')\n",
    "bx.legend()"
   ]
  },
  {
   "cell_type": "code",
   "execution_count": 13,
   "metadata": {},
   "outputs": [
    {
     "data": {
      "text/plain": [
       "<matplotlib.legend.Legend at 0x7fb300704470>"
      ]
     },
     "execution_count": 13,
     "metadata": {},
     "output_type": "execute_result"
    },
    {
     "data": {
      "image/png": "[encoded data removed]",
      "text/plain": [
       "<Figure size 432x288 with 1 Axes>"
      ]
     },
     "metadata": {
      "needs_background": "light"
     },
     "output_type": "display_data"
    }
   ],
   "source": [
    "cpu = pd.read_csv('result2.csv')['consumeTime'].tolist()\n",
    "fig, bx = plt.subplots()\n",
    "bx.plot(iters, times, label='Use TensorRT', marker='^')\n",
    "bx.plot(iters, ori, label='Use Torch CUDA', marker='o')\n",
    "bx.plot(iters, cpu, label=\"Use Torch CPU\", marker='s')\n",
    "bx.set_xlabel('Iterations')\n",
    "bx.set_ylabel('Time/s')\n",
    "bx.set_title('Time consumed with iteration')\n",
    "bx.legend()"
   ]
  },
  {
   "cell_type": "code",
   "execution_count": null,
   "metadata": {},
   "outputs": [],
   "source": []
  }
 ],
 "metadata": {
  "kernelspec": {
   "display_name": "Python 3",
   "language": "python",
   "name": "python3"
  }
 },
 "nbformat": 4,
 "nbformat_minor": 4
}
